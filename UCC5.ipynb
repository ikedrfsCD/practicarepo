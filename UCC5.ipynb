{
  "nbformat": 4,
  "nbformat_minor": 0,
  "metadata": {
    "colab": {
      "provenance": [],
      "authorship_tag": "ABX9TyNMrWU3bmCB1rGVlDjwQAy4",
      "include_colab_link": true
    },
    "kernelspec": {
      "name": "python3",
      "display_name": "Python 3"
    },
    "language_info": {
      "name": "python"
    }
  },
  "cells": [
    {
      "cell_type": "markdown",
      "metadata": {
        "id": "view-in-github",
        "colab_type": "text"
      },
      "source": [
        "<a href=\"https://colab.research.google.com/github/ikedrfsCD/practicarepo/blob/main/UCC5.ipynb\" target=\"_parent\"><img src=\"https://colab.research.google.com/assets/colab-badge.svg\" alt=\"Open In Colab\"/></a>"
      ]
    },
    {
      "cell_type": "code",
      "execution_count": 6,
      "metadata": {
        "id": "PMsSk7JBWDxc"
      },
      "outputs": [],
      "source": [
        "import pandas as pd\n",
        "import numpy as np\n",
        "import seaborn as sns\n",
        "import matplotlib.pyplot as plt\n",
        "from sklearn.model_selection import train_test_split, cross_val_score\n",
        "from sklearn.preprocessing import LabelEncoder, StandardScaler\n",
        "from sklearn.linear_model import LogisticRegression\n",
        "from sklearn.ensemble import RandomForestClassifier, GradientBoostingClassifier\n",
        "from sklearn.metrics import accuracy_score, f1_score, confusion_matrix, classification_report"
      ]
    },
    {
      "cell_type": "code",
      "source": [
        "sns.set(style=\"whitegrid\", palette=\"muted\")"
      ],
      "metadata": {
        "id": "39_Q1v3DX71u"
      },
      "execution_count": 7,
      "outputs": []
    },
    {
      "cell_type": "code",
      "source": [
        "# Revisar la ubicación del dataset (/dataset/titanic.csv)\n",
        "df = pd.read_csv(\"MarathonData.csv\")\n",
        "\n",
        "print(\"Dimensiones del dataset:\", df.shape)\n",
        "df.head()\n",
        "\n",
        "# Verificamos tipos de datos y valores nulos\n",
        "# info: Nombre des variables, tipo de variable (dato)\n",
        "df.info()\n",
        "\n",
        "# Calculo de valores nulos por columna\n",
        "print(\"\\nValores nulos por columna:\")\n",
        "print(df.isna().sum())"
      ],
      "metadata": {
        "id": "p5RGBgyzfmYj"
      },
      "execution_count": null,
      "outputs": []
    }
  ]
}